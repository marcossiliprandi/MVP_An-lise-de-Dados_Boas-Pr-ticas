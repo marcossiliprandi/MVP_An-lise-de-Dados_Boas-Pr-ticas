{
  "nbformat": 4,
  "nbformat_minor": 0,
  "metadata": {
    "colab": {
      "provenance": [],
      "authorship_tag": "ABX9TyORbP42tO/KNy/+WCznzyub",
      "include_colab_link": true
    },
    "kernelspec": {
      "name": "python3",
      "display_name": "Python 3"
    },
    "language_info": {
      "name": "python"
    }
  },
  "cells": [
    {
      "cell_type": "markdown",
      "metadata": {
        "id": "view-in-github",
        "colab_type": "text"
      },
      "source": [
        "<a href=\"https://colab.research.google.com/github/marcossiliprandi/MVP_Analise-de-Dados_Boas-Praticas/blob/main/MVP_Doen%C3%A7as_cardiovasculares.ipynb\" target=\"_parent\"><img src=\"https://colab.research.google.com/assets/colab-badge.svg\" alt=\"Open In Colab\"/></a>"
      ]
    },
    {
      "cell_type": "markdown",
      "source": [
        "#**MVP da Sprint Análise de Dados e Boas Práticas**\n",
        "\n"
      ],
      "metadata": {
        "id": "FXZoLU3sQPuU"
      }
    },
    {
      "cell_type": "markdown",
      "source": [
        "##Definição do Problema\n",
        "\n",
        "A doença cardíaca é a principal causa de morte no mundo, a Organização Mundial da Saúde(OMS) estima que metade das mortes em países desenvolvidos são causadas por doenças cardiovasculares. Em um estudo realizado pela Sociedade Brasileira de Cardiologia indica que a casa 10 brasileiros 5 apresentam fatores de risco.\n",
        "\n",
        "Visando reduzir o numero de pessoas com doenças cardiovasculares, foi pensado em criar um algoritmo de aprendizado supervisionado, Regreção Logística, para realizar a identificação dos pacientes que possuem uma pré dispocisação a doença cardiaca."
      ],
      "metadata": {
        "id": "PBEkyVDyUnhG"
      }
    },
    {
      "cell_type": "markdown",
      "source": [
        "### Iniciando o MVP\n",
        "\n",
        "Para iniciar será realizado a importação das bibliotecas necessárias para a execução da Análise Exploratória de Dados e o Pré-Processamento de Dados e em seguida a importação do dataset Heart_Disease_Prediction.\n",
        "\n"
      ],
      "metadata": {
        "id": "QjjoHds6VWRd"
      }
    },
    {
      "cell_type": "code",
      "source": [
        "import warnings\n",
        "warnings.filterwarnings(\"ignore\")\n",
        "\n",
        "# Importar, manipular e analisar dados\n",
        "import pandas as pd\n",
        "import numpy as np\n",
        "\n",
        "# Criação de gráficos\n",
        "import matplotlib.pyplot as plt\n",
        "import seaborn as sns"
      ],
      "metadata": {
        "id": "vWhTwirJRMx8"
      },
      "execution_count": 1,
      "outputs": []
    },
    {
      "cell_type": "code",
      "source": [
        "# Carregando os dados do dataset que se encontra no Github e utilizando o Pandas para tranformar em Dataframe.\n",
        "\n",
        "url_dados = 'https://raw.githubusercontent.com/marcossiliprandi/MVP_Analise-de-Dados_Boas-Praticas/refs/heads/main/Heart_Disease_Prediction.csv'\n",
        "\n",
        "Heart_Disease = pd.read_csv(url_dados)"
      ],
      "metadata": {
        "id": "zxcNABWqcMXU"
      },
      "execution_count": 2,
      "outputs": []
    }
  ]
}